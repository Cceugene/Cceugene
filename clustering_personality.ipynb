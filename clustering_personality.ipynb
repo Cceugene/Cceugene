{
 "cells": [
  {
   "cell_type": "code",
   "execution_count": 1,
   "id": "510a48a9",
   "metadata": {},
   "outputs": [],
   "source": [
    "import pandas as pd\n",
    "import numpy as np\n",
    "import matplotlib.pyplot as plt\n",
    "%matplotlib inline"
   ]
  },
  {
   "cell_type": "code",
   "execution_count": 2,
   "id": "d70da451",
   "metadata": {},
   "outputs": [],
   "source": [
    "import platform\n",
    "import matplotlib\n",
    "from matplotlib import font_manager, rc\n",
    "\n",
    "# '-' 기호 보이게 하기\n",
    "matplotlib.rcParams['axes.unicode_minus'] = False\n",
    "\n",
    "# 운영 체제마다 한글이 보이게 하는 설정\n",
    "# 윈도우\n",
    "if platform.system() == 'Windows':\n",
    "    path = \"c:\\Windows\\Fonts\\malgun.ttf\"\n",
    "    font_name = font_manager.FontProperties(fname=path).get_name()\n",
    "    rc('font', family=font_name)\n",
    "# 맥\n",
    "elif platform.system() == 'Darwin':\n",
    "    rc('font', family='AppleGothic')\n",
    "# 리눅스\n",
    "elif platform.system() == 'Linux':\n",
    "    rc('font', family='NanumBarunGothic')"
   ]
  },
  {
   "cell_type": "markdown",
   "id": "bd72801d",
   "metadata": {},
   "source": [
    "# 데이터 탐색"
   ]
  },
  {
   "cell_type": "code",
   "execution_count": 3,
   "id": "8c768f81",
   "metadata": {
    "scrolled": false
   },
   "outputs": [
    {
     "name": "stdout",
     "output_type": "stream",
     "text": [
      "(315, 8)\n"
     ]
    },
    {
     "data": {
      "text/html": [
       "<div>\n",
       "<style scoped>\n",
       "    .dataframe tbody tr th:only-of-type {\n",
       "        vertical-align: middle;\n",
       "    }\n",
       "\n",
       "    .dataframe tbody tr th {\n",
       "        vertical-align: top;\n",
       "    }\n",
       "\n",
       "    .dataframe thead th {\n",
       "        text-align: right;\n",
       "    }\n",
       "</style>\n",
       "<table border=\"1\" class=\"dataframe\">\n",
       "  <thead>\n",
       "    <tr style=\"text-align: right;\">\n",
       "      <th></th>\n",
       "      <th>gender</th>\n",
       "      <th>age</th>\n",
       "      <th>openness</th>\n",
       "      <th>neuroticism</th>\n",
       "      <th>conscientiousness</th>\n",
       "      <th>agreeableness</th>\n",
       "      <th>extraversion</th>\n",
       "      <th>Personality</th>\n",
       "    </tr>\n",
       "  </thead>\n",
       "  <tbody>\n",
       "    <tr>\n",
       "      <th>0</th>\n",
       "      <td>Female</td>\n",
       "      <td>20</td>\n",
       "      <td>7</td>\n",
       "      <td>9</td>\n",
       "      <td>9</td>\n",
       "      <td>5</td>\n",
       "      <td>5</td>\n",
       "      <td>dependable</td>\n",
       "    </tr>\n",
       "    <tr>\n",
       "      <th>1</th>\n",
       "      <td>Male</td>\n",
       "      <td>17</td>\n",
       "      <td>5</td>\n",
       "      <td>4</td>\n",
       "      <td>5</td>\n",
       "      <td>2</td>\n",
       "      <td>4</td>\n",
       "      <td>serious</td>\n",
       "    </tr>\n",
       "    <tr>\n",
       "      <th>2</th>\n",
       "      <td>Female</td>\n",
       "      <td>25</td>\n",
       "      <td>5</td>\n",
       "      <td>5</td>\n",
       "      <td>7</td>\n",
       "      <td>2</td>\n",
       "      <td>4</td>\n",
       "      <td>serious</td>\n",
       "    </tr>\n",
       "    <tr>\n",
       "      <th>3</th>\n",
       "      <td>Female</td>\n",
       "      <td>18</td>\n",
       "      <td>6</td>\n",
       "      <td>2</td>\n",
       "      <td>7</td>\n",
       "      <td>4</td>\n",
       "      <td>7</td>\n",
       "      <td>serious</td>\n",
       "    </tr>\n",
       "    <tr>\n",
       "      <th>4</th>\n",
       "      <td>Female</td>\n",
       "      <td>19</td>\n",
       "      <td>2</td>\n",
       "      <td>4</td>\n",
       "      <td>7</td>\n",
       "      <td>1</td>\n",
       "      <td>3</td>\n",
       "      <td>responsible</td>\n",
       "    </tr>\n",
       "    <tr>\n",
       "      <th>5</th>\n",
       "      <td>Female</td>\n",
       "      <td>19</td>\n",
       "      <td>6</td>\n",
       "      <td>4</td>\n",
       "      <td>7</td>\n",
       "      <td>5</td>\n",
       "      <td>5</td>\n",
       "      <td>serious</td>\n",
       "    </tr>\n",
       "    <tr>\n",
       "      <th>6</th>\n",
       "      <td>Female</td>\n",
       "      <td>24</td>\n",
       "      <td>1</td>\n",
       "      <td>2</td>\n",
       "      <td>7</td>\n",
       "      <td>4</td>\n",
       "      <td>6</td>\n",
       "      <td>extraverted</td>\n",
       "    </tr>\n",
       "    <tr>\n",
       "      <th>7</th>\n",
       "      <td>Male</td>\n",
       "      <td>27</td>\n",
       "      <td>4</td>\n",
       "      <td>5</td>\n",
       "      <td>7</td>\n",
       "      <td>4</td>\n",
       "      <td>4</td>\n",
       "      <td>serious</td>\n",
       "    </tr>\n",
       "    <tr>\n",
       "      <th>8</th>\n",
       "      <td>Male</td>\n",
       "      <td>20</td>\n",
       "      <td>6</td>\n",
       "      <td>4</td>\n",
       "      <td>5</td>\n",
       "      <td>6</td>\n",
       "      <td>6</td>\n",
       "      <td>serious</td>\n",
       "    </tr>\n",
       "    <tr>\n",
       "      <th>9</th>\n",
       "      <td>Male</td>\n",
       "      <td>21</td>\n",
       "      <td>5</td>\n",
       "      <td>4</td>\n",
       "      <td>4</td>\n",
       "      <td>6</td>\n",
       "      <td>4</td>\n",
       "      <td>serious</td>\n",
       "    </tr>\n",
       "    <tr>\n",
       "      <th>10</th>\n",
       "      <td>Male</td>\n",
       "      <td>20</td>\n",
       "      <td>6</td>\n",
       "      <td>1</td>\n",
       "      <td>7</td>\n",
       "      <td>6</td>\n",
       "      <td>5</td>\n",
       "      <td>serious</td>\n",
       "    </tr>\n",
       "    <tr>\n",
       "      <th>11</th>\n",
       "      <td>Male</td>\n",
       "      <td>19</td>\n",
       "      <td>4</td>\n",
       "      <td>4</td>\n",
       "      <td>4</td>\n",
       "      <td>4</td>\n",
       "      <td>3</td>\n",
       "      <td>responsible</td>\n",
       "    </tr>\n",
       "    <tr>\n",
       "      <th>12</th>\n",
       "      <td>Female</td>\n",
       "      <td>20</td>\n",
       "      <td>4</td>\n",
       "      <td>5</td>\n",
       "      <td>5</td>\n",
       "      <td>5</td>\n",
       "      <td>2</td>\n",
       "      <td>responsible</td>\n",
       "    </tr>\n",
       "    <tr>\n",
       "      <th>13</th>\n",
       "      <td>Female</td>\n",
       "      <td>20</td>\n",
       "      <td>4</td>\n",
       "      <td>4</td>\n",
       "      <td>4</td>\n",
       "      <td>4</td>\n",
       "      <td>5</td>\n",
       "      <td>serious</td>\n",
       "    </tr>\n",
       "    <tr>\n",
       "      <th>14</th>\n",
       "      <td>Female</td>\n",
       "      <td>19</td>\n",
       "      <td>7</td>\n",
       "      <td>2</td>\n",
       "      <td>4</td>\n",
       "      <td>3</td>\n",
       "      <td>4</td>\n",
       "      <td>lively</td>\n",
       "    </tr>\n",
       "    <tr>\n",
       "      <th>15</th>\n",
       "      <td>Female</td>\n",
       "      <td>17</td>\n",
       "      <td>6</td>\n",
       "      <td>6</td>\n",
       "      <td>5</td>\n",
       "      <td>7</td>\n",
       "      <td>6</td>\n",
       "      <td>extraverted</td>\n",
       "    </tr>\n",
       "    <tr>\n",
       "      <th>16</th>\n",
       "      <td>Male</td>\n",
       "      <td>17</td>\n",
       "      <td>5</td>\n",
       "      <td>4</td>\n",
       "      <td>6</td>\n",
       "      <td>6</td>\n",
       "      <td>5</td>\n",
       "      <td>serious</td>\n",
       "    </tr>\n",
       "    <tr>\n",
       "      <th>17</th>\n",
       "      <td>Male</td>\n",
       "      <td>18</td>\n",
       "      <td>5</td>\n",
       "      <td>3</td>\n",
       "      <td>5</td>\n",
       "      <td>6</td>\n",
       "      <td>7</td>\n",
       "      <td>serious</td>\n",
       "    </tr>\n",
       "    <tr>\n",
       "      <th>18</th>\n",
       "      <td>Male</td>\n",
       "      <td>23</td>\n",
       "      <td>4</td>\n",
       "      <td>2</td>\n",
       "      <td>1</td>\n",
       "      <td>5</td>\n",
       "      <td>6</td>\n",
       "      <td>serious</td>\n",
       "    </tr>\n",
       "    <tr>\n",
       "      <th>19</th>\n",
       "      <td>Female</td>\n",
       "      <td>23</td>\n",
       "      <td>5</td>\n",
       "      <td>4</td>\n",
       "      <td>4</td>\n",
       "      <td>5</td>\n",
       "      <td>4</td>\n",
       "      <td>extraverted</td>\n",
       "    </tr>\n",
       "  </tbody>\n",
       "</table>\n",
       "</div>"
      ],
      "text/plain": [
       "    gender  age  openness  neuroticism  conscientiousness  agreeableness  \\\n",
       "0   Female   20         7            9                  9              5   \n",
       "1     Male   17         5            4                  5              2   \n",
       "2   Female   25         5            5                  7              2   \n",
       "3   Female   18         6            2                  7              4   \n",
       "4   Female   19         2            4                  7              1   \n",
       "5   Female   19         6            4                  7              5   \n",
       "6   Female   24         1            2                  7              4   \n",
       "7     Male   27         4            5                  7              4   \n",
       "8     Male   20         6            4                  5              6   \n",
       "9     Male   21         5            4                  4              6   \n",
       "10    Male   20         6            1                  7              6   \n",
       "11    Male   19         4            4                  4              4   \n",
       "12  Female   20         4            5                  5              5   \n",
       "13  Female   20         4            4                  4              4   \n",
       "14  Female   19         7            2                  4              3   \n",
       "15  Female   17         6            6                  5              7   \n",
       "16    Male   17         5            4                  6              6   \n",
       "17    Male   18         5            3                  5              6   \n",
       "18    Male   23         4            2                  1              5   \n",
       "19  Female   23         5            4                  4              5   \n",
       "\n",
       "    extraversion  Personality  \n",
       "0              5   dependable  \n",
       "1              4      serious  \n",
       "2              4      serious  \n",
       "3              7      serious  \n",
       "4              3  responsible  \n",
       "5              5      serious  \n",
       "6              6  extraverted  \n",
       "7              4      serious  \n",
       "8              6      serious  \n",
       "9              4      serious  \n",
       "10             5      serious  \n",
       "11             3  responsible  \n",
       "12             2  responsible  \n",
       "13             5      serious  \n",
       "14             4       lively  \n",
       "15             6  extraverted  \n",
       "16             5      serious  \n",
       "17             7      serious  \n",
       "18             6      serious  \n",
       "19             4  extraverted  "
      ]
     },
     "execution_count": 3,
     "metadata": {},
     "output_type": "execute_result"
    }
   ],
   "source": [
    "data = pd.read_csv('/JupyterNotbook/Data_Analytics/data/personalities.csv')\n",
    "print(data.shape)\n",
    "data.head(20)"
   ]
  },
  {
   "cell_type": "code",
   "execution_count": 7,
   "id": "7ab8ca88",
   "metadata": {},
   "outputs": [
    {
     "data": {
      "text/plain": [
       "<AxesSubplot:>"
      ]
     },
     "execution_count": 7,
     "metadata": {},
     "output_type": "execute_result"
    },
    {
     "data": {
      "image/png": "[encoded data removed]",
      "text/plain": [
       "<Figure size 432x288 with 1 Axes>"
      ]
     },
     "metadata": {
      "needs_background": "light"
     },
     "output_type": "display_data"
    }
   ],
   "source": [
    "data['Personality'].hist()"
   ]
  },
  {
   "cell_type": "code",
   "execution_count": 128,
   "id": "2346a978",
   "metadata": {},
   "outputs": [],
   "source": [
    "df = data.drop(['gender', 'age'], axis=1)"
   ]
  },
  {
   "cell_type": "code",
   "execution_count": 129,
   "id": "bcbfecf1",
   "metadata": {
    "scrolled": true
   },
   "outputs": [
    {
     "data": {
      "text/html": [
       "<div>\n",
       "<style scoped>\n",
       "    .dataframe tbody tr th:only-of-type {\n",
       "        vertical-align: middle;\n",
       "    }\n",
       "\n",
       "    .dataframe tbody tr th {\n",
       "        vertical-align: top;\n",
       "    }\n",
       "\n",
       "    .dataframe thead th {\n",
       "        text-align: right;\n",
       "    }\n",
       "</style>\n",
       "<table border=\"1\" class=\"dataframe\">\n",
       "  <thead>\n",
       "    <tr style=\"text-align: right;\">\n",
       "      <th></th>\n",
       "      <th>openness</th>\n",
       "      <th>neuroticism</th>\n",
       "      <th>conscientiousness</th>\n",
       "      <th>agreeableness</th>\n",
       "      <th>extraversion</th>\n",
       "    </tr>\n",
       "    <tr>\n",
       "      <th>Personality</th>\n",
       "      <th></th>\n",
       "      <th></th>\n",
       "      <th></th>\n",
       "      <th></th>\n",
       "      <th></th>\n",
       "    </tr>\n",
       "  </thead>\n",
       "  <tbody>\n",
       "    <tr>\n",
       "      <th>dependable</th>\n",
       "      <td>7</td>\n",
       "      <td>9</td>\n",
       "      <td>9</td>\n",
       "      <td>5</td>\n",
       "      <td>5</td>\n",
       "    </tr>\n",
       "    <tr>\n",
       "      <th>serious</th>\n",
       "      <td>5</td>\n",
       "      <td>4</td>\n",
       "      <td>5</td>\n",
       "      <td>2</td>\n",
       "      <td>4</td>\n",
       "    </tr>\n",
       "    <tr>\n",
       "      <th>serious</th>\n",
       "      <td>5</td>\n",
       "      <td>5</td>\n",
       "      <td>7</td>\n",
       "      <td>2</td>\n",
       "      <td>4</td>\n",
       "    </tr>\n",
       "    <tr>\n",
       "      <th>serious</th>\n",
       "      <td>6</td>\n",
       "      <td>2</td>\n",
       "      <td>7</td>\n",
       "      <td>4</td>\n",
       "      <td>7</td>\n",
       "    </tr>\n",
       "    <tr>\n",
       "      <th>responsible</th>\n",
       "      <td>2</td>\n",
       "      <td>4</td>\n",
       "      <td>7</td>\n",
       "      <td>1</td>\n",
       "      <td>3</td>\n",
       "    </tr>\n",
       "    <tr>\n",
       "      <th>...</th>\n",
       "      <td>...</td>\n",
       "      <td>...</td>\n",
       "      <td>...</td>\n",
       "      <td>...</td>\n",
       "      <td>...</td>\n",
       "    </tr>\n",
       "    <tr>\n",
       "      <th>extraverted</th>\n",
       "      <td>6</td>\n",
       "      <td>5</td>\n",
       "      <td>6</td>\n",
       "      <td>4</td>\n",
       "      <td>3</td>\n",
       "    </tr>\n",
       "    <tr>\n",
       "      <th>dependable</th>\n",
       "      <td>2</td>\n",
       "      <td>5</td>\n",
       "      <td>8</td>\n",
       "      <td>3</td>\n",
       "      <td>7</td>\n",
       "    </tr>\n",
       "    <tr>\n",
       "      <th>serious</th>\n",
       "      <td>7</td>\n",
       "      <td>5</td>\n",
       "      <td>6</td>\n",
       "      <td>2</td>\n",
       "      <td>7</td>\n",
       "    </tr>\n",
       "    <tr>\n",
       "      <th>extraverted</th>\n",
       "      <td>6</td>\n",
       "      <td>7</td>\n",
       "      <td>5</td>\n",
       "      <td>4</td>\n",
       "      <td>3</td>\n",
       "    </tr>\n",
       "    <tr>\n",
       "      <th>extraverted</th>\n",
       "      <td>5</td>\n",
       "      <td>7</td>\n",
       "      <td>3</td>\n",
       "      <td>5</td>\n",
       "      <td>6</td>\n",
       "    </tr>\n",
       "  </tbody>\n",
       "</table>\n",
       "<p>315 rows × 5 columns</p>\n",
       "</div>"
      ],
      "text/plain": [
       "             openness  neuroticism  conscientiousness  agreeableness  \\\n",
       "Personality                                                            \n",
       "dependable          7            9                  9              5   \n",
       "serious             5            4                  5              2   \n",
       "serious             5            5                  7              2   \n",
       "serious             6            2                  7              4   \n",
       "responsible         2            4                  7              1   \n",
       "...               ...          ...                ...            ...   \n",
       "extraverted         6            5                  6              4   \n",
       "dependable          2            5                  8              3   \n",
       "serious             7            5                  6              2   \n",
       "extraverted         6            7                  5              4   \n",
       "extraverted         5            7                  3              5   \n",
       "\n",
       "             extraversion  \n",
       "Personality                \n",
       "dependable              5  \n",
       "serious                 4  \n",
       "serious                 4  \n",
       "serious                 7  \n",
       "responsible             3  \n",
       "...                   ...  \n",
       "extraverted             3  \n",
       "dependable              7  \n",
       "serious                 7  \n",
       "extraverted             3  \n",
       "extraverted             6  \n",
       "\n",
       "[315 rows x 5 columns]"
      ]
     },
     "execution_count": 129,
     "metadata": {},
     "output_type": "execute_result"
    }
   ],
   "source": [
    "df.set_index(['Personality'])"
   ]
  },
  {
   "cell_type": "code",
   "execution_count": 130,
   "id": "5246e923",
   "metadata": {
    "scrolled": true
   },
   "outputs": [
    {
     "data": {
      "text/html": [
       "<div>\n",
       "<style scoped>\n",
       "    .dataframe tbody tr th:only-of-type {\n",
       "        vertical-align: middle;\n",
       "    }\n",
       "\n",
       "    .dataframe tbody tr th {\n",
       "        vertical-align: top;\n",
       "    }\n",
       "\n",
       "    .dataframe thead th {\n",
       "        text-align: right;\n",
       "    }\n",
       "</style>\n",
       "<table border=\"1\" class=\"dataframe\">\n",
       "  <thead>\n",
       "    <tr style=\"text-align: right;\">\n",
       "      <th></th>\n",
       "      <th>openness</th>\n",
       "      <th>neuroticism</th>\n",
       "      <th>conscientiousness</th>\n",
       "      <th>agreeableness</th>\n",
       "      <th>extraversion</th>\n",
       "    </tr>\n",
       "  </thead>\n",
       "  <tbody>\n",
       "    <tr>\n",
       "      <th>count</th>\n",
       "      <td>315.000000</td>\n",
       "      <td>315.000000</td>\n",
       "      <td>315.000000</td>\n",
       "      <td>315.000000</td>\n",
       "      <td>315.000000</td>\n",
       "    </tr>\n",
       "    <tr>\n",
       "      <th>mean</th>\n",
       "      <td>4.850794</td>\n",
       "      <td>4.584127</td>\n",
       "      <td>4.812698</td>\n",
       "      <td>4.844444</td>\n",
       "      <td>4.926984</td>\n",
       "    </tr>\n",
       "    <tr>\n",
       "      <th>std</th>\n",
       "      <td>1.537211</td>\n",
       "      <td>1.818623</td>\n",
       "      <td>1.786315</td>\n",
       "      <td>1.718555</td>\n",
       "      <td>1.466527</td>\n",
       "    </tr>\n",
       "    <tr>\n",
       "      <th>min</th>\n",
       "      <td>1.000000</td>\n",
       "      <td>1.000000</td>\n",
       "      <td>1.000000</td>\n",
       "      <td>1.000000</td>\n",
       "      <td>1.000000</td>\n",
       "    </tr>\n",
       "    <tr>\n",
       "      <th>25%</th>\n",
       "      <td>4.000000</td>\n",
       "      <td>3.000000</td>\n",
       "      <td>4.000000</td>\n",
       "      <td>4.000000</td>\n",
       "      <td>4.000000</td>\n",
       "    </tr>\n",
       "    <tr>\n",
       "      <th>50%</th>\n",
       "      <td>5.000000</td>\n",
       "      <td>5.000000</td>\n",
       "      <td>5.000000</td>\n",
       "      <td>5.000000</td>\n",
       "      <td>5.000000</td>\n",
       "    </tr>\n",
       "    <tr>\n",
       "      <th>75%</th>\n",
       "      <td>6.000000</td>\n",
       "      <td>6.000000</td>\n",
       "      <td>6.000000</td>\n",
       "      <td>6.000000</td>\n",
       "      <td>6.000000</td>\n",
       "    </tr>\n",
       "    <tr>\n",
       "      <th>max</th>\n",
       "      <td>8.000000</td>\n",
       "      <td>9.000000</td>\n",
       "      <td>9.000000</td>\n",
       "      <td>8.000000</td>\n",
       "      <td>8.000000</td>\n",
       "    </tr>\n",
       "  </tbody>\n",
       "</table>\n",
       "</div>"
      ],
      "text/plain": [
       "         openness  neuroticism  conscientiousness  agreeableness  extraversion\n",
       "count  315.000000   315.000000         315.000000     315.000000    315.000000\n",
       "mean     4.850794     4.584127           4.812698       4.844444      4.926984\n",
       "std      1.537211     1.818623           1.786315       1.718555      1.466527\n",
       "min      1.000000     1.000000           1.000000       1.000000      1.000000\n",
       "25%      4.000000     3.000000           4.000000       4.000000      4.000000\n",
       "50%      5.000000     5.000000           5.000000       5.000000      5.000000\n",
       "75%      6.000000     6.000000           6.000000       6.000000      6.000000\n",
       "max      8.000000     9.000000           9.000000       8.000000      8.000000"
      ]
     },
     "execution_count": 130,
     "metadata": {},
     "output_type": "execute_result"
    }
   ],
   "source": [
    "df.describe()"
   ]
  },
  {
   "cell_type": "markdown",
   "id": "0a32b107",
   "metadata": {},
   "source": [
    "### Data for Clustering"
   ]
  },
  {
   "cell_type": "code",
   "execution_count": 142,
   "id": "5f615f02",
   "metadata": {},
   "outputs": [
    {
     "data": {
      "text/html": [
       "<div>\n",
       "<style scoped>\n",
       "    .dataframe tbody tr th:only-of-type {\n",
       "        vertical-align: middle;\n",
       "    }\n",
       "\n",
       "    .dataframe tbody tr th {\n",
       "        vertical-align: top;\n",
       "    }\n",
       "\n",
       "    .dataframe thead th {\n",
       "        text-align: right;\n",
       "    }\n",
       "</style>\n",
       "<table border=\"1\" class=\"dataframe\">\n",
       "  <thead>\n",
       "    <tr style=\"text-align: right;\">\n",
       "      <th></th>\n",
       "      <th>openness</th>\n",
       "      <th>neuroticism</th>\n",
       "      <th>conscientiousness</th>\n",
       "      <th>agreeableness</th>\n",
       "      <th>extraversion</th>\n",
       "    </tr>\n",
       "  </thead>\n",
       "  <tbody>\n",
       "    <tr>\n",
       "      <th>0</th>\n",
       "      <td>7</td>\n",
       "      <td>9</td>\n",
       "      <td>9</td>\n",
       "      <td>5</td>\n",
       "      <td>5</td>\n",
       "    </tr>\n",
       "    <tr>\n",
       "      <th>1</th>\n",
       "      <td>5</td>\n",
       "      <td>4</td>\n",
       "      <td>5</td>\n",
       "      <td>2</td>\n",
       "      <td>4</td>\n",
       "    </tr>\n",
       "    <tr>\n",
       "      <th>2</th>\n",
       "      <td>5</td>\n",
       "      <td>5</td>\n",
       "      <td>7</td>\n",
       "      <td>2</td>\n",
       "      <td>4</td>\n",
       "    </tr>\n",
       "    <tr>\n",
       "      <th>3</th>\n",
       "      <td>6</td>\n",
       "      <td>2</td>\n",
       "      <td>7</td>\n",
       "      <td>4</td>\n",
       "      <td>7</td>\n",
       "    </tr>\n",
       "    <tr>\n",
       "      <th>4</th>\n",
       "      <td>2</td>\n",
       "      <td>4</td>\n",
       "      <td>7</td>\n",
       "      <td>1</td>\n",
       "      <td>3</td>\n",
       "    </tr>\n",
       "    <tr>\n",
       "      <th>...</th>\n",
       "      <td>...</td>\n",
       "      <td>...</td>\n",
       "      <td>...</td>\n",
       "      <td>...</td>\n",
       "      <td>...</td>\n",
       "    </tr>\n",
       "    <tr>\n",
       "      <th>310</th>\n",
       "      <td>6</td>\n",
       "      <td>5</td>\n",
       "      <td>6</td>\n",
       "      <td>4</td>\n",
       "      <td>3</td>\n",
       "    </tr>\n",
       "    <tr>\n",
       "      <th>311</th>\n",
       "      <td>2</td>\n",
       "      <td>5</td>\n",
       "      <td>8</td>\n",
       "      <td>3</td>\n",
       "      <td>7</td>\n",
       "    </tr>\n",
       "    <tr>\n",
       "      <th>312</th>\n",
       "      <td>7</td>\n",
       "      <td>5</td>\n",
       "      <td>6</td>\n",
       "      <td>2</td>\n",
       "      <td>7</td>\n",
       "    </tr>\n",
       "    <tr>\n",
       "      <th>313</th>\n",
       "      <td>6</td>\n",
       "      <td>7</td>\n",
       "      <td>5</td>\n",
       "      <td>4</td>\n",
       "      <td>3</td>\n",
       "    </tr>\n",
       "    <tr>\n",
       "      <th>314</th>\n",
       "      <td>5</td>\n",
       "      <td>7</td>\n",
       "      <td>3</td>\n",
       "      <td>5</td>\n",
       "      <td>6</td>\n",
       "    </tr>\n",
       "  </tbody>\n",
       "</table>\n",
       "<p>315 rows × 5 columns</p>\n",
       "</div>"
      ],
      "text/plain": [
       "     openness  neuroticism  conscientiousness  agreeableness  extraversion\n",
       "0           7            9                  9              5             5\n",
       "1           5            4                  5              2             4\n",
       "2           5            5                  7              2             4\n",
       "3           6            2                  7              4             7\n",
       "4           2            4                  7              1             3\n",
       "..        ...          ...                ...            ...           ...\n",
       "310         6            5                  6              4             3\n",
       "311         2            5                  8              3             7\n",
       "312         7            5                  6              2             7\n",
       "313         6            7                  5              4             3\n",
       "314         5            7                  3              5             6\n",
       "\n",
       "[315 rows x 5 columns]"
      ]
     },
     "execution_count": 142,
     "metadata": {},
     "output_type": "execute_result"
    }
   ],
   "source": [
    "big5 = data[['openness', 'neuroticism', 'conscientiousness', 'agreeableness', 'extraversion']]\n",
    "raw = data[['openness', 'neuroticism', 'conscientiousness', 'agreeableness', 'extraversion']]\n",
    "big5"
   ]
  },
  {
   "cell_type": "code",
   "execution_count": 133,
   "id": "9b4c9e2e",
   "metadata": {
    "scrolled": true
   },
   "outputs": [
    {
     "data": {
      "text/html": [
       "<div>\n",
       "<style scoped>\n",
       "    .dataframe tbody tr th:only-of-type {\n",
       "        vertical-align: middle;\n",
       "    }\n",
       "\n",
       "    .dataframe tbody tr th {\n",
       "        vertical-align: top;\n",
       "    }\n",
       "\n",
       "    .dataframe thead th {\n",
       "        text-align: right;\n",
       "    }\n",
       "</style>\n",
       "<table border=\"1\" class=\"dataframe\">\n",
       "  <thead>\n",
       "    <tr style=\"text-align: right;\">\n",
       "      <th></th>\n",
       "      <th>Personality</th>\n",
       "    </tr>\n",
       "  </thead>\n",
       "  <tbody>\n",
       "    <tr>\n",
       "      <th>0</th>\n",
       "      <td>dependable</td>\n",
       "    </tr>\n",
       "    <tr>\n",
       "      <th>1</th>\n",
       "      <td>serious</td>\n",
       "    </tr>\n",
       "    <tr>\n",
       "      <th>2</th>\n",
       "      <td>serious</td>\n",
       "    </tr>\n",
       "    <tr>\n",
       "      <th>3</th>\n",
       "      <td>serious</td>\n",
       "    </tr>\n",
       "    <tr>\n",
       "      <th>4</th>\n",
       "      <td>responsible</td>\n",
       "    </tr>\n",
       "    <tr>\n",
       "      <th>...</th>\n",
       "      <td>...</td>\n",
       "    </tr>\n",
       "    <tr>\n",
       "      <th>310</th>\n",
       "      <td>extraverted</td>\n",
       "    </tr>\n",
       "    <tr>\n",
       "      <th>311</th>\n",
       "      <td>dependable</td>\n",
       "    </tr>\n",
       "    <tr>\n",
       "      <th>312</th>\n",
       "      <td>serious</td>\n",
       "    </tr>\n",
       "    <tr>\n",
       "      <th>313</th>\n",
       "      <td>extraverted</td>\n",
       "    </tr>\n",
       "    <tr>\n",
       "      <th>314</th>\n",
       "      <td>extraverted</td>\n",
       "    </tr>\n",
       "  </tbody>\n",
       "</table>\n",
       "<p>315 rows × 1 columns</p>\n",
       "</div>"
      ],
      "text/plain": [
       "     Personality\n",
       "0     dependable\n",
       "1        serious\n",
       "2        serious\n",
       "3        serious\n",
       "4    responsible\n",
       "..           ...\n",
       "310  extraverted\n",
       "311   dependable\n",
       "312      serious\n",
       "313  extraverted\n",
       "314  extraverted\n",
       "\n",
       "[315 rows x 1 columns]"
      ]
     },
     "execution_count": 133,
     "metadata": {},
     "output_type": "execute_result"
    }
   ],
   "source": [
    "target = data[['Personality']]\n",
    "target"
   ]
  },
  {
   "cell_type": "markdown",
   "id": "2ab8e84b",
   "metadata": {},
   "source": [
    "## 1. Cleaning"
   ]
  },
  {
   "cell_type": "code",
   "execution_count": 134,
   "id": "10c592e6",
   "metadata": {},
   "outputs": [
    {
     "data": {
      "text/plain": [
       "openness             0\n",
       "neuroticism          0\n",
       "conscientiousness    0\n",
       "agreeableness        0\n",
       "extraversion         0\n",
       "Personality          0\n",
       "dtype: int64"
      ]
     },
     "execution_count": 134,
     "metadata": {},
     "output_type": "execute_result"
    }
   ],
   "source": [
    "df.isnull().sum()"
   ]
  },
  {
   "cell_type": "markdown",
   "id": "93a0cee4",
   "metadata": {},
   "source": [
    "## 2. 데이터 범주형 변환"
   ]
  },
  {
   "cell_type": "code",
   "execution_count": null,
   "id": "c0a31e6a",
   "metadata": {},
   "outputs": [],
   "source": []
  },
  {
   "cell_type": "markdown",
   "id": "7509b741",
   "metadata": {},
   "source": [
    "## 3. Scaling"
   ]
  },
  {
   "cell_type": "code",
   "execution_count": 143,
   "id": "33366f0f",
   "metadata": {},
   "outputs": [],
   "source": [
    "from sklearn.preprocessing import StandardScaler"
   ]
  },
  {
   "cell_type": "code",
   "execution_count": 144,
   "id": "07a337f2",
   "metadata": {},
   "outputs": [
    {
     "name": "stderr",
     "output_type": "stream",
     "text": [
      "C:\\ProgramData\\Anaconda3\\lib\\site-packages\\pandas\\core\\frame.py:3678: SettingWithCopyWarning: \n",
      "A value is trying to be set on a copy of a slice from a DataFrame.\n",
      "Try using .loc[row_indexer,col_indexer] = value instead\n",
      "\n",
      "See the caveats in the documentation: https://pandas.pydata.org/pandas-docs/stable/user_guide/indexing.html#returning-a-view-versus-a-copy\n",
      "  self[col] = igetitem(value, i)\n"
     ]
    },
    {
     "data": {
      "text/html": [
       "<div>\n",
       "<style scoped>\n",
       "    .dataframe tbody tr th:only-of-type {\n",
       "        vertical-align: middle;\n",
       "    }\n",
       "\n",
       "    .dataframe tbody tr th {\n",
       "        vertical-align: top;\n",
       "    }\n",
       "\n",
       "    .dataframe thead th {\n",
       "        text-align: right;\n",
       "    }\n",
       "</style>\n",
       "<table border=\"1\" class=\"dataframe\">\n",
       "  <thead>\n",
       "    <tr style=\"text-align: right;\">\n",
       "      <th></th>\n",
       "      <th>openness</th>\n",
       "      <th>neuroticism</th>\n",
       "      <th>conscientiousness</th>\n",
       "      <th>agreeableness</th>\n",
       "      <th>extraversion</th>\n",
       "    </tr>\n",
       "  </thead>\n",
       "  <tbody>\n",
       "    <tr>\n",
       "      <th>0</th>\n",
       "      <td>1.400345</td>\n",
       "      <td>2.432004</td>\n",
       "      <td>2.347830</td>\n",
       "      <td>0.090659</td>\n",
       "      <td>0.049867</td>\n",
       "    </tr>\n",
       "    <tr>\n",
       "      <th>1</th>\n",
       "      <td>0.097217</td>\n",
       "      <td>-0.321703</td>\n",
       "      <td>0.105020</td>\n",
       "      <td>-1.657770</td>\n",
       "      <td>-0.633100</td>\n",
       "    </tr>\n",
       "    <tr>\n",
       "      <th>2</th>\n",
       "      <td>0.097217</td>\n",
       "      <td>0.229038</td>\n",
       "      <td>1.226425</td>\n",
       "      <td>-1.657770</td>\n",
       "      <td>-0.633100</td>\n",
       "    </tr>\n",
       "    <tr>\n",
       "      <th>3</th>\n",
       "      <td>0.748781</td>\n",
       "      <td>-1.423186</td>\n",
       "      <td>1.226425</td>\n",
       "      <td>-0.492151</td>\n",
       "      <td>1.415803</td>\n",
       "    </tr>\n",
       "    <tr>\n",
       "      <th>4</th>\n",
       "      <td>-1.857474</td>\n",
       "      <td>-0.321703</td>\n",
       "      <td>1.226425</td>\n",
       "      <td>-2.240580</td>\n",
       "      <td>-1.316068</td>\n",
       "    </tr>\n",
       "    <tr>\n",
       "      <th>...</th>\n",
       "      <td>...</td>\n",
       "      <td>...</td>\n",
       "      <td>...</td>\n",
       "      <td>...</td>\n",
       "      <td>...</td>\n",
       "    </tr>\n",
       "    <tr>\n",
       "      <th>310</th>\n",
       "      <td>0.748781</td>\n",
       "      <td>0.229038</td>\n",
       "      <td>0.665723</td>\n",
       "      <td>-0.492151</td>\n",
       "      <td>-1.316068</td>\n",
       "    </tr>\n",
       "    <tr>\n",
       "      <th>311</th>\n",
       "      <td>-1.857474</td>\n",
       "      <td>0.229038</td>\n",
       "      <td>1.787128</td>\n",
       "      <td>-1.074961</td>\n",
       "      <td>1.415803</td>\n",
       "    </tr>\n",
       "    <tr>\n",
       "      <th>312</th>\n",
       "      <td>1.400345</td>\n",
       "      <td>0.229038</td>\n",
       "      <td>0.665723</td>\n",
       "      <td>-1.657770</td>\n",
       "      <td>1.415803</td>\n",
       "    </tr>\n",
       "    <tr>\n",
       "      <th>313</th>\n",
       "      <td>0.748781</td>\n",
       "      <td>1.330521</td>\n",
       "      <td>0.105020</td>\n",
       "      <td>-0.492151</td>\n",
       "      <td>-1.316068</td>\n",
       "    </tr>\n",
       "    <tr>\n",
       "      <th>314</th>\n",
       "      <td>0.097217</td>\n",
       "      <td>1.330521</td>\n",
       "      <td>-1.016384</td>\n",
       "      <td>0.090659</td>\n",
       "      <td>0.732835</td>\n",
       "    </tr>\n",
       "  </tbody>\n",
       "</table>\n",
       "<p>315 rows × 5 columns</p>\n",
       "</div>"
      ],
      "text/plain": [
       "     openness  neuroticism  conscientiousness  agreeableness  extraversion\n",
       "0    1.400345     2.432004           2.347830       0.090659      0.049867\n",
       "1    0.097217    -0.321703           0.105020      -1.657770     -0.633100\n",
       "2    0.097217     0.229038           1.226425      -1.657770     -0.633100\n",
       "3    0.748781    -1.423186           1.226425      -0.492151      1.415803\n",
       "4   -1.857474    -0.321703           1.226425      -2.240580     -1.316068\n",
       "..        ...          ...                ...            ...           ...\n",
       "310  0.748781     0.229038           0.665723      -0.492151     -1.316068\n",
       "311 -1.857474     0.229038           1.787128      -1.074961      1.415803\n",
       "312  1.400345     0.229038           0.665723      -1.657770      1.415803\n",
       "313  0.748781     1.330521           0.105020      -0.492151     -1.316068\n",
       "314  0.097217     1.330521          -1.016384       0.090659      0.732835\n",
       "\n",
       "[315 rows x 5 columns]"
      ]
     },
     "execution_count": 144,
     "metadata": {},
     "output_type": "execute_result"
    }
   ],
   "source": [
    "big5[['openness', 'neuroticism', 'conscientiousness', 'agreeableness', 'extraversion']] = StandardScaler().fit_transform(big5)\n",
    "big5"
   ]
  },
  {
   "cell_type": "code",
   "execution_count": 137,
   "id": "2e79d196",
   "metadata": {},
   "outputs": [
    {
     "data": {
      "text/html": [
       "<div>\n",
       "<style scoped>\n",
       "    .dataframe tbody tr th:only-of-type {\n",
       "        vertical-align: middle;\n",
       "    }\n",
       "\n",
       "    .dataframe tbody tr th {\n",
       "        vertical-align: top;\n",
       "    }\n",
       "\n",
       "    .dataframe thead th {\n",
       "        text-align: right;\n",
       "    }\n",
       "</style>\n",
       "<table border=\"1\" class=\"dataframe\">\n",
       "  <thead>\n",
       "    <tr style=\"text-align: right;\">\n",
       "      <th>Personality</th>\n",
       "      <th>dependable</th>\n",
       "      <th>extraverted</th>\n",
       "      <th>lively</th>\n",
       "      <th>responsible</th>\n",
       "      <th>serious</th>\n",
       "    </tr>\n",
       "  </thead>\n",
       "  <tbody>\n",
       "    <tr>\n",
       "      <th>openness</th>\n",
       "      <td>5.428571</td>\n",
       "      <td>5.142857</td>\n",
       "      <td>5.500000</td>\n",
       "      <td>4.450</td>\n",
       "      <td>4.627451</td>\n",
       "    </tr>\n",
       "    <tr>\n",
       "      <th>neuroticism</th>\n",
       "      <td>5.190476</td>\n",
       "      <td>5.935065</td>\n",
       "      <td>3.250000</td>\n",
       "      <td>4.250</td>\n",
       "      <td>4.117647</td>\n",
       "    </tr>\n",
       "    <tr>\n",
       "      <th>conscientiousness</th>\n",
       "      <td>5.142857</td>\n",
       "      <td>4.207792</td>\n",
       "      <td>5.250000</td>\n",
       "      <td>4.425</td>\n",
       "      <td>5.104575</td>\n",
       "    </tr>\n",
       "    <tr>\n",
       "      <th>agreeableness</th>\n",
       "      <td>4.857143</td>\n",
       "      <td>4.896104</td>\n",
       "      <td>5.000000</td>\n",
       "      <td>3.950</td>\n",
       "      <td>5.026144</td>\n",
       "    </tr>\n",
       "    <tr>\n",
       "      <th>extraversion</th>\n",
       "      <td>5.333333</td>\n",
       "      <td>4.636364</td>\n",
       "      <td>3.208333</td>\n",
       "      <td>4.125</td>\n",
       "      <td>5.496732</td>\n",
       "    </tr>\n",
       "  </tbody>\n",
       "</table>\n",
       "</div>"
      ],
      "text/plain": [
       "Personality        dependable  extraverted    lively  responsible   serious\n",
       "openness             5.428571     5.142857  5.500000        4.450  4.627451\n",
       "neuroticism          5.190476     5.935065  3.250000        4.250  4.117647\n",
       "conscientiousness    5.142857     4.207792  5.250000        4.425  5.104575\n",
       "agreeableness        4.857143     4.896104  5.000000        3.950  5.026144\n",
       "extraversion         5.333333     4.636364  3.208333        4.125  5.496732"
      ]
     },
     "execution_count": 137,
     "metadata": {},
     "output_type": "execute_result"
    }
   ],
   "source": [
    "df_per = df.groupby('Personality').mean().T\n",
    "df_per"
   ]
  },
  {
   "cell_type": "code",
   "execution_count": 138,
   "id": "db1b364b",
   "metadata": {},
   "outputs": [],
   "source": [
    "corr = df_per.corr()\n",
    "corr.loc[:][1.000000] = np.nan\n",
    "\n",
    "#corr.agg(['min', 'max'])"
   ]
  },
  {
   "cell_type": "markdown",
   "id": "60ba024b",
   "metadata": {},
   "source": [
    "## 덴드로그램"
   ]
  },
  {
   "cell_type": "code",
   "execution_count": 139,
   "id": "64b76092",
   "metadata": {},
   "outputs": [],
   "source": [
    "from scipy.cluster.hierarchy import dendrogram, linkage"
   ]
  },
  {
   "cell_type": "code",
   "execution_count": 140,
   "id": "ce7ea4f7",
   "metadata": {},
   "outputs": [
    {
     "name": "stdout",
     "output_type": "stream",
     "text": [
      "[[2.         3.         0.92178203 2.        ]\n",
      " [0.         5.         1.11602994 3.        ]\n",
      " [1.         4.         1.90427668 2.        ]\n",
      " [6.         7.         3.25195402 5.        ]]\n"
     ]
    },
    {
     "data": {
      "text/plain": [
       "{'icoord': [[15.0, 15.0, 25.0, 25.0],\n",
       "  [5.0, 5.0, 20.0, 20.0],\n",
       "  [35.0, 35.0, 45.0, 45.0],\n",
       "  [12.5, 12.5, 40.0, 40.0]],\n",
       " 'dcoord': [[0.0, 0.9217820314627717, 0.9217820314627717, 0.0],\n",
       "  [0.0, 1.1160299426191436, 1.1160299426191436, 0.9217820314627717],\n",
       "  [0.0, 1.9042766828151798, 1.9042766828151798, 0.0],\n",
       "  [1.1160299426191436,\n",
       "   3.2519540241793363,\n",
       "   3.2519540241793363,\n",
       "   1.9042766828151798]],\n",
       " 'ivl': ['dependable', 'lively', 'responsible', 'extraverted', 'serious'],\n",
       " 'leaves': [0, 2, 3, 1, 4],\n",
       " 'color_list': ['C1', 'C1', 'C2', 'C0'],\n",
       " 'leaves_color_list': ['C1', 'C1', 'C1', 'C2', 'C2']}"
      ]
     },
     "execution_count": 140,
     "metadata": {},
     "output_type": "execute_result"
    },
    {
     "data": {
      "image/png": "[encoded data removed]",
      "text/plain": [
       "<Figure size 720x360 with 1 Axes>"
      ]
     },
     "metadata": {
      "needs_background": "light"
     },
     "output_type": "display_data"
    }
   ],
   "source": [
    "linkdata = linkage(df_per, metric='euclidean', method='ward')\n",
    "print(linkdata)\n",
    "plt.figure(figsize=(10, 5))\n",
    "dendrogram(linkdata, labels=df_per.columns)"
   ]
  },
  {
   "cell_type": "code",
   "execution_count": 78,
   "id": "51aa061b",
   "metadata": {
    "scrolled": true
   },
   "outputs": [
    {
     "name": "stdout",
     "output_type": "stream",
     "text": [
      "[[0.         4.         1.35995672 2.        ]\n",
      " [1.         5.         2.03354373 3.        ]\n",
      " [2.         3.         2.17391416 2.        ]\n",
      " [6.         7.         3.1752041  5.        ]]\n"
     ]
    },
    {
     "data": {
      "text/plain": [
       "{'icoord': [[15.0, 15.0, 25.0, 25.0],\n",
       "  [5.0, 5.0, 20.0, 20.0],\n",
       "  [35.0, 35.0, 45.0, 45.0],\n",
       "  [12.5, 12.5, 40.0, 40.0]],\n",
       " 'dcoord': [[0.0, 1.359956718638781, 1.359956718638781, 0.0],\n",
       "  [0.0, 2.033543725650116, 2.033543725650116, 1.359956718638781],\n",
       "  [0.0, 2.173914160627732, 2.173914160627732, 0.0],\n",
       "  [2.033543725650116,\n",
       "   3.175204102070541,\n",
       "   3.175204102070541,\n",
       "   2.173914160627732]],\n",
       " 'ivl': ['neuroticism',\n",
       "  'openness',\n",
       "  'extraversion',\n",
       "  'conscientiousness',\n",
       "  'agreeableness'],\n",
       " 'leaves': [1, 0, 4, 2, 3],\n",
       " 'color_list': ['C1', 'C1', 'C2', 'C0'],\n",
       " 'leaves_color_list': ['C1', 'C1', 'C1', 'C2', 'C2']}"
      ]
     },
     "execution_count": 78,
     "metadata": {},
     "output_type": "execute_result"
    },
    {
     "data": {
      "image/png": "[encoded data removed]",
      "text/plain": [
       "<Figure size 720x360 with 1 Axes>"
      ]
     },
     "metadata": {
      "needs_background": "light"
     },
     "output_type": "display_data"
    }
   ],
   "source": [
    "linkdata = linkage(df_per.T, metric='euclidean', method='ward')\n",
    "print(linkdata)\n",
    "plt.figure(figsize=(10, 5))\n",
    "dendrogram(linkdata, labels=df_per.T.columns)"
   ]
  },
  {
   "cell_type": "markdown",
   "id": "25227b0e",
   "metadata": {},
   "source": [
    "### After StandardScaling"
   ]
  },
  {
   "cell_type": "code",
   "execution_count": 88,
   "id": "482e9750",
   "metadata": {
    "scrolled": false
   },
   "outputs": [
    {
     "data": {
      "text/plain": [
       "<Figure size 1440x1440 with 0 Axes>"
      ]
     },
     "execution_count": 88,
     "metadata": {},
     "output_type": "execute_result"
    },
    {
     "data": {
      "image/png": "[encoded data removed]",
      "text/plain": [
       "<Figure size 432x288 with 1 Axes>"
      ]
     },
     "metadata": {
      "needs_background": "light"
     },
     "output_type": "display_data"
    },
    {
     "data": {
      "text/plain": [
       "<Figure size 1440x1440 with 0 Axes>"
      ]
     },
     "metadata": {},
     "output_type": "display_data"
    }
   ],
   "source": [
    "after_std = linkage(big5, metric='euclidean', method='ward')\n",
    "dendrogram(after_std)\n",
    "plt.figure(figsize=(20, 20))"
   ]
  },
  {
   "cell_type": "markdown",
   "id": "55151edc",
   "metadata": {},
   "source": [
    "# Clustering"
   ]
  },
  {
   "cell_type": "code",
   "execution_count": 89,
   "id": "32d3c854",
   "metadata": {},
   "outputs": [],
   "source": [
    "from sklearn.cluster import KMeans"
   ]
  },
  {
   "cell_type": "code",
   "execution_count": 96,
   "id": "7d144aac",
   "metadata": {},
   "outputs": [],
   "source": [
    "n = 5\n",
    "k = KMeans(n_clusters=n).fit(big5)"
   ]
  },
  {
   "cell_type": "code",
   "execution_count": 161,
   "id": "c4ef6d13",
   "metadata": {},
   "outputs": [
    {
     "data": {
      "text/plain": [
       "array([[ 0.31828381, -1.21665765, -0.8361586 ,  0.4965448 , -0.08428691],\n",
       "       [ 0.11696184,  0.30413958,  0.35988518, -0.73057284, -1.28502423],\n",
       "       [-1.41609232,  0.05137997,  0.34015372,  0.12825996,  0.42439826],\n",
       "       [ 0.64980968,  0.01989618,  0.73669785,  0.33411157,  0.37838368],\n",
       "       [ 0.20998816,  0.83273577, -1.0810808 , -0.26799294,  0.64089737]])"
      ]
     },
     "execution_count": 161,
     "metadata": {},
     "output_type": "execute_result"
    }
   ],
   "source": [
    "centers = k.cluster_centers_\n",
    "centers"
   ]
  },
  {
   "cell_type": "code",
   "execution_count": 106,
   "id": "f5fd6f8d",
   "metadata": {},
   "outputs": [],
   "source": [
    "colors = list('rcgbk')\n",
    "n_samples = big5.shape[0]"
   ]
  },
  {
   "cell_type": "code",
   "execution_count": 163,
   "id": "a6fb904e",
   "metadata": {
    "scrolled": true
   },
   "outputs": [
    {
     "data": {
      "image/png": "[encoded data removed]",
      "text/plain": [
       "<Figure size 720x576 with 1 Axes>"
      ]
     },
     "metadata": {
      "needs_background": "light"
     },
     "output_type": "display_data"
    }
   ],
   "source": [
    "plt.figure(figsize=(10, 8))\n",
    "plt.ylabel('개방성')\n",
    "\n",
    "for n in range(n_samples):\n",
    "    label = k.labels_[n]\n",
    "    plt.scatter(n, raw['openness'][n], c=colors[label])"
   ]
  },
  {
   "cell_type": "markdown",
   "id": "fe61e998",
   "metadata": {},
   "source": [
    "유형별 그래프"
   ]
  },
  {
   "cell_type": "code",
   "execution_count": 149,
   "id": "8cce4567",
   "metadata": {},
   "outputs": [],
   "source": [
    "def a(A):\n",
    "    plt.figure(figsize=(10, 8))\n",
    "    plt.ylabel(A)\n",
    "    for n in range(n_samples):\n",
    "        label = k.labels_[n]\n",
    "        plt.scatter(n, raw[A][n], c=colors[label])"
   ]
  },
  {
   "cell_type": "code",
   "execution_count": 150,
   "id": "4fe1c413",
   "metadata": {},
   "outputs": [
    {
     "data": {
      "image/png": "[encoded data removed]",
      "text/plain": [
       "<Figure size 720x576 with 1 Axes>"
      ]
     },
     "metadata": {
      "needs_background": "light"
     },
     "output_type": "display_data"
    },
    {
     "data": {
      "image/png": "[encoded data removed]",
      "text/plain": [
       "<Figure size 720x576 with 1 Axes>"
      ]
     },
     "metadata": {
      "needs_background": "light"
     },
     "output_type": "display_data"
    },
    {
     "data": {
      "image/png": "[encoded data removed]",
      "text/plain": [
       "<Figure size 720x576 with 1 Axes>"
      ]
     },
     "metadata": {
      "needs_background": "light"
     },
     "output_type": "display_data"
    },
    {
     "data": {
      "image/png": "[encoded data removed]",
      "text/plain": [
       "<Figure size 720x576 with 1 Axes>"
      ]
     },
     "metadata": {
      "needs_background": "light"
     },
     "output_type": "display_data"
    },
    {
     "data": {
      "image/png": "[encoded data removed]",
      "text/plain": [
       "<Figure size 720x576 with 1 Axes>"
      ]
     },
     "metadata": {
      "needs_background": "light"
     },
     "output_type": "display_data"
    }
   ],
   "source": [
    "aa = ['openness', 'neuroticism', 'conscientiousness', 'agreeableness', 'extraversion']\n",
    "for i in range(5):\n",
    "    a(aa[i])"
   ]
  },
  {
   "cell_type": "markdown",
   "id": "5c9863e2",
   "metadata": {},
   "source": [
    "### 정오답"
   ]
  },
  {
   "cell_type": "code",
   "execution_count": 156,
   "id": "d3d12b61",
   "metadata": {},
   "outputs": [
    {
     "data": {
      "text/html": [
       "<div>\n",
       "<style scoped>\n",
       "    .dataframe tbody tr th:only-of-type {\n",
       "        vertical-align: middle;\n",
       "    }\n",
       "\n",
       "    .dataframe tbody tr th {\n",
       "        vertical-align: top;\n",
       "    }\n",
       "\n",
       "    .dataframe thead th {\n",
       "        text-align: right;\n",
       "    }\n",
       "</style>\n",
       "<table border=\"1\" class=\"dataframe\">\n",
       "  <thead>\n",
       "    <tr style=\"text-align: right;\">\n",
       "      <th></th>\n",
       "      <th>0</th>\n",
       "    </tr>\n",
       "  </thead>\n",
       "  <tbody>\n",
       "    <tr>\n",
       "      <th>0</th>\n",
       "      <td>3</td>\n",
       "    </tr>\n",
       "    <tr>\n",
       "      <th>1</th>\n",
       "      <td>1</td>\n",
       "    </tr>\n",
       "    <tr>\n",
       "      <th>2</th>\n",
       "      <td>1</td>\n",
       "    </tr>\n",
       "    <tr>\n",
       "      <th>3</th>\n",
       "      <td>3</td>\n",
       "    </tr>\n",
       "    <tr>\n",
       "      <th>4</th>\n",
       "      <td>1</td>\n",
       "    </tr>\n",
       "    <tr>\n",
       "      <th>...</th>\n",
       "      <td>...</td>\n",
       "    </tr>\n",
       "    <tr>\n",
       "      <th>310</th>\n",
       "      <td>1</td>\n",
       "    </tr>\n",
       "    <tr>\n",
       "      <th>311</th>\n",
       "      <td>2</td>\n",
       "    </tr>\n",
       "    <tr>\n",
       "      <th>312</th>\n",
       "      <td>3</td>\n",
       "    </tr>\n",
       "    <tr>\n",
       "      <th>313</th>\n",
       "      <td>1</td>\n",
       "    </tr>\n",
       "    <tr>\n",
       "      <th>314</th>\n",
       "      <td>4</td>\n",
       "    </tr>\n",
       "  </tbody>\n",
       "</table>\n",
       "<p>315 rows × 1 columns</p>\n",
       "</div>"
      ],
      "text/plain": [
       "     0\n",
       "0    3\n",
       "1    1\n",
       "2    1\n",
       "3    3\n",
       "4    1\n",
       "..  ..\n",
       "310  1\n",
       "311  2\n",
       "312  3\n",
       "313  1\n",
       "314  4\n",
       "\n",
       "[315 rows x 1 columns]"
      ]
     },
     "execution_count": 156,
     "metadata": {},
     "output_type": "execute_result"
    }
   ],
   "source": [
    "y_predict = np.array(k.labels_).reshape(315, 1)\n",
    "y_predict = pd.DataFrame(y_predict)\n",
    "y_predict"
   ]
  },
  {
   "cell_type": "code",
   "execution_count": 159,
   "id": "e502db0b",
   "metadata": {},
   "outputs": [
    {
     "name": "stdout",
     "output_type": "stream",
     "text": [
      "     Personality  0\n",
      "0     dependable  3\n",
      "1        serious  1\n",
      "2        serious  1\n",
      "3        serious  3\n",
      "4    responsible  1\n",
      "..           ... ..\n",
      "310  extraverted  1\n",
      "311   dependable  2\n",
      "312      serious  3\n",
      "313  extraverted  1\n",
      "314  extraverted  4\n",
      "\n",
      "[315 rows x 2 columns]\n"
     ]
    },
    {
     "data": {
      "text/plain": [
       "Personality  0\n",
       "dependable   0     5\n",
       "             1     3\n",
       "             2     3\n",
       "             3     7\n",
       "             4     3\n",
       "extraverted  0     5\n",
       "             1    22\n",
       "             2     7\n",
       "             3    15\n",
       "             4    28\n",
       "lively       0     8\n",
       "             1    11\n",
       "             2     1\n",
       "             3     2\n",
       "             4     2\n",
       "responsible  0     8\n",
       "             1    15\n",
       "             2     4\n",
       "             3     5\n",
       "             4     8\n",
       "serious      0    30\n",
       "             1    15\n",
       "             2    47\n",
       "             3    50\n",
       "             4    11\n",
       "dtype: int64"
      ]
     },
     "execution_count": 159,
     "metadata": {},
     "output_type": "execute_result"
    }
   ],
   "source": [
    "ans = pd.concat([target, y_predict], axis=1)\n",
    "print(ans)\n",
    "ans.groupby(['Personality', 0]).size()"
   ]
  },
  {
   "cell_type": "code",
   "execution_count": null,
   "id": "49fc8702",
   "metadata": {},
   "outputs": [],
   "source": []
  }
 ],
 "metadata": {
  "kernelspec": {
   "display_name": "Python 3 (ipykernel)",
   "language": "python",
   "name": "python3"
  },
  "language_info": {
   "codemirror_mode": {
    "name": "ipython",
    "version": 3
   },
   "file_extension": ".py",
   "mimetype": "text/x-python",
   "name": "python",
   "nbconvert_exporter": "python",
   "pygments_lexer": "ipython3",
   "version": "3.9.7"
  }
 },
 "nbformat": 4,
 "nbformat_minor": 5
}
